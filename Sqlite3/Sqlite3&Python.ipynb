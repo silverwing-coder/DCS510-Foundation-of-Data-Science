{
 "cells": [
  {
   "cell_type": "markdown",
   "metadata": {},
   "source": [
    "<h6>ver. Mar-2024</h6>\n",
    "\n",
    "<h3>Python for Sqlite3 </h3>\n",
    "\n",
    "<h4>1. Employee class for OOP implementation.</h4>"
   ]
  },
  {
   "cell_type": "code",
   "execution_count": 2,
   "metadata": {},
   "outputs": [],
   "source": [
    "class Employee:\n",
    "    def __init__(self, firstName, lastName, pay):\n",
    "        self.firstName = firstName\n",
    "        self.lastName = lastName\n",
    "        self.pay = pay\n",
    "\n",
    "    def email(self):\n",
    "        return '{].{}@email.com'.format(self.firstName, self.lastName)\n",
    "\n",
    "    def fullName(self):\n",
    "        return '{} {}'.format(self.firstName, self.lastName)\n",
    "\n",
    "    def __repr__(self):\n",
    "        return \"Employee('{}', '{}', {})\".format(self.firstName, self.lastName, self.pay)\n"
   ]
  },
  {
   "cell_type": "markdown",
   "metadata": {},
   "source": [
    "\n",
    "<h4>2. CRUD Database by Python.</h4>"
   ]
  },
  {
   "cell_type": "code",
   "execution_count": 3,
   "metadata": {},
   "outputs": [
    {
     "ename": "ModuleNotFoundError",
     "evalue": "No module named 'Employee'",
     "output_type": "error",
     "traceback": [
      "\u001b[1;31m---------------------------------------------------------------------------\u001b[0m",
      "\u001b[1;31mModuleNotFoundError\u001b[0m                       Traceback (most recent call last)",
      "Input \u001b[1;32mIn [3]\u001b[0m, in \u001b[0;36m<cell line: 2>\u001b[1;34m()\u001b[0m\n\u001b[0;32m      1\u001b[0m \u001b[38;5;28;01mimport\u001b[39;00m \u001b[38;5;21;01msqlite3\u001b[39;00m\n\u001b[1;32m----> 2\u001b[0m \u001b[38;5;28;01mimport\u001b[39;00m \u001b[38;5;21;01mEmployee\u001b[39;00m\n\u001b[0;32m      5\u001b[0m \u001b[38;5;124;03m''' Create a connection instance '''\u001b[39;00m\n\u001b[0;32m      6\u001b[0m \u001b[38;5;124;03m''' Database on memory is used for testing in development phase. '''\u001b[39;00m\n",
      "\u001b[1;31mModuleNotFoundError\u001b[0m: No module named 'Employee'"
     ]
    }
   ],
   "source": [
    "import sqlite3\n",
    "import Employee\n",
    "\n",
    "\n",
    "''' Create a connection instance '''\n",
    "''' Database on memory is used for testing in development phase. '''\n",
    "conn = sqlite3.connect(':memory:')\n",
    "    \n",
    "''' Database on file:   if the file does not exist --> create the database file && connect\n",
    "                        if exist, connect '''\n",
    "# conn = sqlite3.connect('employee.db')\n",
    "\n",
    "''' create a cursor object '''\n",
    "c = conn.cursor()\n",
    "\n",
    "''' create employee table in the Database '''\n",
    "c.execute(\"\"\"CREATE TABLE employees (\n",
    "            firstName text,\n",
    "            lastName text,\n",
    "            pay integer\n",
    "            )\"\"\")\n",
    "\n",
    "''' all inner methods must be declared beofore it is used '''\n",
    "def insert_emp(emp):\n",
    "    with conn:\n",
    "        c.execute(\"INSERT INTO employees VALUES (:firstName, :lastName, :pay)\", {'firstName': emp.firstName, 'lastName': emp.lastName, 'pay': emp.pay})\n",
    "\n",
    "def get_emps_by_name(lastName):\n",
    "    c.execute(\"SELECT * FROM employees WHERE lastName = :lastName\", {'lastName': lastName})\n",
    "    return c.fetchall()\n",
    "\n",
    "def update_pay(emp, pay):\n",
    "    with conn:\n",
    "        c.execute(\"\"\"UPDATE employees SET pay = :pay \n",
    "                    WHERE firstName = :firstName AND lastName = :lastName\"\"\",\n",
    "                    {'firstName': emp.firstName, 'lastName': emp.lastName, 'pay':pay})\n",
    "\n",
    "def remove_emp(emp):\n",
    "    with conn:\n",
    "        c.execute(\"DELETE FROM employees  WHERE firstName = :firstName AND lastName = :lastName\",\n",
    "                    {'firstName': emp.firstName, 'lastName': emp.lastName})\n",
    "\n",
    "''' insert an employee data by SQL '''\n",
    "c.execute(\"INSERT INTO employees VALUES ('Mary', 'Schafer', 70000)\")\n",
    "c.execute(\"INSERT INTO employees VALUES ('Samuel', 'Schafer', 70000)\")\n",
    "\n",
    "''' create an Employee object for OOP implementaion '''\n",
    "employee1 = Employee('John', 'Doe', 80000)\n",
    "employee2 = Employee('Jane', 'Doe', 90000)\n",
    "\n",
    "''' insert data on ?, ? statement '''\n",
    "# c.execute(\"INSERT INTO employees VALUES (?, ?, ?)\", (employee1.firstName, employee1.lastName, employee1.pay))\n",
    "\n",
    "''' insert data on dictionary statement '''\n",
    "# c.execute(\"INSERT INTO employees VALUES (:firstName, :lastName, :pay)\", {'firstName': employee2.firstName, 'lastName': employee2.lastName, 'pay': employee2.pay})\n",
    "\n",
    "insert_emp(employee1)\n",
    "insert_emp(employee2)\n",
    "# print(employee1)\n",
    "\n",
    "emps = get_emps_by_name('Doe')\n",
    "print(emps)\n",
    "\n",
    "update_pay(employee2, 95000)\n",
    "remove_emp(employee1)\n",
    "emps = get_emps_by_name('Doe')\n",
    "print(emps)\n",
    "\n",
    "conn.commit()\n",
    "\n",
    "''' retrieve data by SQL statement '''\n",
    "# c.execute(\"SELECT * FROM employees WHERE lastName = 'Schafer'\")\n",
    "# c.execute(\"SELECT * FROM employees WHERE lastName = ?\", ('Schafer',))\n",
    "# print(c.fetchall())\n",
    "\n",
    "# c.execute(\"SELECT * FROM employees WHERE lastName = :lastName\", {'lastName': 'Doe'})\n",
    "# print(c.fetchall())\n",
    "\n",
    "# c.execute(\"SELECT * FROM employees WHERE lastName = 'Schafer'\")\n",
    "# print(c.fetchall())\n",
    "# conn.close()\n",
    "\n"
   ]
  }
 ],
 "metadata": {
  "kernelspec": {
   "display_name": "Python 3",
   "language": "python",
   "name": "python3"
  },
  "language_info": {
   "codemirror_mode": {
    "name": "ipython",
    "version": 3
   },
   "file_extension": ".py",
   "mimetype": "text/x-python",
   "name": "python",
   "nbconvert_exporter": "python",
   "pygments_lexer": "ipython3",
   "version": "3.10.5"
  }
 },
 "nbformat": 4,
 "nbformat_minor": 2
}
